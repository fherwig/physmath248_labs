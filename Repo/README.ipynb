{
 "cells": [
  {
   "cell_type": "markdown",
   "metadata": {},
   "source": [
    "# WENDI for PHYS/MATH248\n",
    "\n",
    "## availability\n",
    "* if the WENDI platform is not available please email the instructors\n",
    "* the WENDI platform is still being improved and upgraded from time to time which makes it necesary to restart the service\n",
    "* when that is necessary all files stored in the home directory of the instance will be lost\n",
    "* all students will be alerted in advance of any planned shutdown or restart of the platform\n",
    "* however, it can not be garanteed that unexpected shotdowns may happen\n",
    "* it therefore essential to save your work frequently, how this can be done will be explained in class, but see as well below\n",
    "\n",
    "\n",
    "## storage\n",
    "\n",
    "### user home directory\n",
    "* not persistent, will ony survive as long as the platform is not restarted\n",
    "* will survive is you disconnect your web browser\n",
    "\n",
    "### shared storage on the WENDI platform\n",
    "* there is limited shared and persistent storage in `/students` where you can make your own directory using your first and lastname as directory name\n",
    "* this storage will be there when the whole platform has been restarted (which is necessary from time to time for maintencance or updates)\n",
    "* this shared storage is readable to everybody who has access to this platform, including your peers and users who are not in this class; it is part of the obvious [netiquette](http://www.albion.com/netiquette/corerules.html) that directories of other users are off limit, i.e. do not poke around in directories other than your own\n",
    "* if you want to collaborate with someone create a top level share directory, such as `herwig.share` or a collaboration project with a name such as `student1.student2.collab`\n",
    "\n",
    "### mounting personal UVic file storage\n",
    "* in preparation\n",
    "\n",
    "### external repositories\n",
    "* bitbucket, github or gitlab repositories can be cloned into the WENDI instance through the terminal access\n",
    "\n",
    "## Known issues\n",
    "\n",
    "### Terminal\n",
    "* When using a _Terminal_ (see _New_ dropdown menu on top right) presently the loing shell is `sh`. In order to switch to the much nicer _bash_ shell, just type `bash` at the command line. \n",
    "\n",
    "\n"
   ]
  },
  {
   "cell_type": "code",
   "execution_count": null,
   "metadata": {
    "collapsed": true
   },
   "outputs": [],
   "source": []
  }
 ],
 "metadata": {
  "anaconda-cloud": {},
  "kernelspec": {
   "display_name": "Python [default]",
   "language": "python",
   "name": "python3"
  },
  "language_info": {
   "codemirror_mode": {
    "name": "ipython",
    "version": 3
   },
   "file_extension": ".py",
   "mimetype": "text/x-python",
   "name": "python",
   "nbconvert_exporter": "python",
   "pygments_lexer": "ipython3",
   "version": "3.5.2"
  }
 },
 "nbformat": 4,
 "nbformat_minor": 1
}
