{
 "cells": [
  {
   "cell_type": "markdown",
   "metadata": {},
   "source": [
    "# WENDI for PHYS/MATH248\n",
    "\n",
    "## availability\n",
    "\n",
    "## storage\n",
    "\n",
    "### user home directory\n",
    "* not persistent, will ony survive as long as the platform is not restarted\n",
    "* will survive is you disconnect your web browser\n",
    "\n",
    "### shared storage on the WENDI platform\n",
    "* there is limited shared and persistent storage in `/physmath248` where you can make your own directory using your first and lastname as directory name\n",
    "* this storage will be there when the whole platform has been restarted (which is necessary from time to time for maintencance or updates)\n"
   ]
  }
 ],
 "metadata": {
  "anaconda-cloud": {},
  "kernelspec": {
   "display_name": "Python 2",
   "language": "python",
   "name": "python2"
  },
  "language_info": {
   "codemirror_mode": {
    "name": "ipython",
    "version": 2
   },
   "file_extension": ".py",
   "mimetype": "text/x-python",
   "name": "python",
   "nbconvert_exporter": "python",
   "pygments_lexer": "ipython2",
   "version": "2.7.9"
  }
 },
 "nbformat": 4,
 "nbformat_minor": 1
}
