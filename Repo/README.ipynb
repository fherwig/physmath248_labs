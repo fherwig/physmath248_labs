{
 "cells": [
  {
   "cell_type": "markdown",
   "metadata": {},
   "source": [
    "# WENDI for PHYS/MATH248\n",
    "\n",
    "## availability\n",
    "\n",
    "## storage\n",
    "\n",
    "### user home directory\n",
    "* not persistent, will ony survive as long as the platform is not restarted\n",
    "* will survive is you disconnect your web browser\n",
    "\n",
    "### shared storage on the WENDI platform\n",
    "* there is limited shared and persistent storage in `/physmath248` where you can make your own directory using your first and lastname as directory name\n",
    "* this storage will be there when the whole platform has been restarted (which is necessary from time to time for maintencance or updates)\n"
   ]
  },
  {
   "cell_type": "markdown",
   "metadata": {},
   "source": []
  }
 ],
 "metadata": {
  "anaconda-cloud": {},
  "kernelspec": {
   "display_name": "Python [default]",
   "language": "python",
   "name": "python3"
  },
  "language_info": {
   "codemirror_mode": {
    "name": "ipython",
    "version": 3
   },
   "file_extension": ".py",
   "mimetype": "text/x-python",
   "name": "python",
   "nbconvert_exporter": "python",
   "pygments_lexer": "ipython3",
   "version": "3.5.2"
  }
 },
 "nbformat": 4,
 "nbformat_minor": 1
}
